{
 "cells": [
  {
   "cell_type": "code",
   "execution_count": 10,
   "metadata": {},
   "outputs": [],
   "source": [
    "import cv2\n",
    "import mediapipe as mp\n"
   ]
  },
  {
   "cell_type": "code",
   "execution_count": 11,
   "metadata": {},
   "outputs": [],
   "source": [
    "mpdraw = mp.solutions.drawing_utils\n",
    "mppose = mp.solutions.pose\n",
    "mpdraw_styles = mp.solutions.drawing_styles\n",
    "pose = mppose.Pose()"
   ]
  },
  {
   "cell_type": "code",
   "execution_count": 12,
   "metadata": {},
   "outputs": [
    {
     "name": "stdout",
     "output_type": "stream",
     "text": [
      "1\n",
      "2\n",
      "3\n",
      "4\n",
      "5\n",
      "6\n",
      "7\n",
      "8\n"
     ]
    }
   ],
   "source": [
    "position = None\n",
    "count = 0\n",
    "video = cv2.VideoCapture(0)\n",
    "while True:\n",
    "    siu,frames = video.read()\n",
    "    frames = cv2.flip(frames,1)\n",
    "    frames = cv2.cvtColor(frames,cv2.COLOR_BGR2RGB)\n",
    "    result = pose.process(frames)\n",
    "    frames = cv2.rectangle(frames,(20,350),(90,440),(255,255,255),cv2.FILLED)\n",
    "    frames = cv2.rectangle(frames,(20,350),(90,440),(0,0,0),2)\n",
    "    frames = cv2.cvtColor(frames,cv2.COLOR_RGB2BGR)\n",
    "    lmlist=[]\n",
    "    if result.pose_landmarks:\n",
    "       # for i in result.pose_landmarks:\n",
    "        mpdraw.draw_landmarks(frames,result.pose_landmarks,mppose.POSE_CONNECTIONS)\n",
    "        for id,lm in enumerate(result.pose_landmarks.landmark):\n",
    "            cx = lm.x \n",
    "            cy = lm.y \n",
    "            lmlist.append([id,cx,cy])\n",
    "            \n",
    "           # print(lmlist)\n",
    "           \n",
    "           # print(len(lmlist))\n",
    "            \n",
    "            #h,w,_ = frames.shape\n",
    "            #X,Y = int(lm.x*w),int(lm.y*h)\n",
    "            #lmlist.append([id,X,Y])\n",
    "    if len(lmlist) !=0:\n",
    "        \n",
    "        if lmlist[12][2] and lmlist[11][2] >= lmlist[14][2] and lmlist[13][2]:\n",
    "           position = \"down\"\n",
    "        if lmlist[12][2] and lmlist[11][2] <= lmlist[14][2] and lmlist[13][2] and position == \"down\":\n",
    "           position = \"up\"\n",
    "           count= count+1\n",
    "           print(count)\n",
    "        cv2.putText(frames,str(count),(25,430),cv2.FONT_HERSHEY_COMPLEX,2,(0,0,0),5)\n",
    "         \n",
    "    cv2.imshow(\"pose\",frames)   \n",
    "    if cv2.waitKey(1) & 0XFF == 27:\n",
    "        break\n",
    "video.release()\n",
    "cv2.destroyAllWindows()"
   ]
  },
  {
   "cell_type": "code",
   "execution_count": null,
   "metadata": {},
   "outputs": [],
   "source": []
  },
  {
   "cell_type": "code",
   "execution_count": null,
   "metadata": {},
   "outputs": [],
   "source": []
  },
  {
   "cell_type": "code",
   "execution_count": null,
   "metadata": {},
   "outputs": [],
   "source": []
  },
  {
   "cell_type": "code",
   "execution_count": null,
   "metadata": {},
   "outputs": [],
   "source": []
  }
 ],
 "metadata": {
  "kernelspec": {
   "display_name": "Python 3",
   "language": "python",
   "name": "python3"
  },
  "language_info": {
   "codemirror_mode": {
    "name": "ipython",
    "version": 3
   },
   "file_extension": ".py",
   "mimetype": "text/x-python",
   "name": "python",
   "nbconvert_exporter": "python",
   "pygments_lexer": "ipython3",
   "version": "3.8.8"
  },
  "orig_nbformat": 4
 },
 "nbformat": 4,
 "nbformat_minor": 2
}
